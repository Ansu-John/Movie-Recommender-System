{
 "cells": [
  {
   "cell_type": "markdown",
   "metadata": {},
   "source": [
    "# Import libraries"
   ]
  },
  {
   "cell_type": "code",
   "execution_count": 1,
   "metadata": {},
   "outputs": [],
   "source": [
    "from pyspark.sql import SparkSession\n",
    "spark = SparkSession.builder.appName(\"Recommender System\").config(\"spark.sql.crossJoin.enabled\",\"true\").getOrCreate()"
   ]
  },
  {
   "cell_type": "code",
   "execution_count": 2,
   "metadata": {},
   "outputs": [],
   "source": [
    "from pyspark.ml.recommendation import ALS\n",
    "from pyspark.ml.evaluation import RegressionEvaluator\n",
    "from pyspark.ml.feature import VectorAssembler\n",
    "from pyspark.sql import functions as f"
   ]
  },
  {
   "cell_type": "markdown",
   "metadata": {},
   "source": [
    "# Load and verify data"
   ]
  },
  {
   "cell_type": "code",
   "execution_count": 3,
   "metadata": {},
   "outputs": [],
   "source": [
    "from pyspark.sql.types import StringType, DoubleType, IntegerType, StructType, StructField\n",
    "schema = StructType([StructField('userId', IntegerType(), True),\n",
    "                     StructField('movieId', IntegerType(), True),\n",
    "                     StructField('rating', IntegerType(), True),\n",
    "                     StructField('timestamp', DoubleType(), True)])\n"
   ]
  },
  {
   "cell_type": "code",
   "execution_count": 4,
   "metadata": {},
   "outputs": [],
   "source": [
    "data = spark.read.csv('ratings.dat',sep = '::', header = False, schema = schema)\n",
    "# Data taken from https://grouplens.org/datasets/movielens/1m/"
   ]
  },
  {
   "cell_type": "code",
   "execution_count": 5,
   "metadata": {},
   "outputs": [
    {
     "name": "stdout",
     "output_type": "stream",
     "text": [
      "root\n",
      " |-- userId: integer (nullable = true)\n",
      " |-- movieId: integer (nullable = true)\n",
      " |-- rating: integer (nullable = true)\n",
      " |-- timestamp: double (nullable = true)\n",
      "\n"
     ]
    }
   ],
   "source": [
    "data.printSchema()"
   ]
  },
  {
   "cell_type": "code",
   "execution_count": 6,
   "metadata": {},
   "outputs": [
    {
     "data": {
      "text/plain": [
       "[Row(userId=1, movieId=1193, rating=5, timestamp=978300760.0),\n",
       " Row(userId=1, movieId=661, rating=3, timestamp=978302109.0),\n",
       " Row(userId=1, movieId=914, rating=3, timestamp=978301968.0)]"
      ]
     },
     "execution_count": 6,
     "metadata": {},
     "output_type": "execute_result"
    }
   ],
   "source": [
    "data.head(3)"
   ]
  },
  {
   "cell_type": "code",
   "execution_count": 7,
   "metadata": {},
   "outputs": [
    {
     "name": "stdout",
     "output_type": "stream",
     "text": [
      "1\n",
      "1193\n",
      "5\n",
      "978300760.0\n"
     ]
    }
   ],
   "source": [
    "for item in data.head(1)[0]:\n",
    "    print(item)"
   ]
  },
  {
   "cell_type": "code",
   "execution_count": 8,
   "metadata": {},
   "outputs": [
    {
     "data": {
      "text/plain": [
       "['userId', 'movieId', 'rating', 'timestamp']"
      ]
     },
     "execution_count": 8,
     "metadata": {},
     "output_type": "execute_result"
    }
   ],
   "source": [
    "data.columns"
   ]
  },
  {
   "cell_type": "code",
   "execution_count": 9,
   "metadata": {},
   "outputs": [
    {
     "name": "stdout",
     "output_type": "stream",
     "text": [
      "+-------+------------------+------------------+------------------+--------------------+\n",
      "|summary|            userId|           movieId|            rating|           timestamp|\n",
      "+-------+------------------+------------------+------------------+--------------------+\n",
      "|  count|           1000209|           1000209|           1000209|             1000209|\n",
      "|   mean| 3024.512347919285|1865.5398981612843| 3.581564453029317| 9.722436954046655E8|\n",
      "| stddev|1728.4126948999715|1096.0406894572482|1.1171018453732606|1.2152558939916052E7|\n",
      "|    min|                 1|                 1|                 1|        9.56703932E8|\n",
      "|    max|              6040|              3952|                 5|        1.04645459E9|\n",
      "+-------+------------------+------------------+------------------+--------------------+\n",
      "\n"
     ]
    }
   ],
   "source": [
    "data.describe().show()"
   ]
  },
  {
   "cell_type": "markdown",
   "metadata": {},
   "source": [
    "# Train Test split"
   ]
  },
  {
   "cell_type": "code",
   "execution_count": 10,
   "metadata": {},
   "outputs": [],
   "source": [
    "train_data,test_data = data.randomSplit([0.7,0.3])"
   ]
  },
  {
   "cell_type": "code",
   "execution_count": 11,
   "metadata": {},
   "outputs": [
    {
     "name": "stdout",
     "output_type": "stream",
     "text": [
      "+-------+------------------+------------------+-----------------+--------------------+\n",
      "|summary|            userId|           movieId|           rating|           timestamp|\n",
      "+-------+------------------+------------------+-----------------+--------------------+\n",
      "|  count|            700438|            700438|           700438|              700438|\n",
      "|   mean| 3025.572510343528|1864.5546857823247|3.582501234941565| 9.722283748928485E8|\n",
      "| stddev|1729.2303682458576|1096.2424422575243|1.116184544935731|1.2140714962225813E7|\n",
      "|    min|                 1|                 1|                1|        9.56703932E8|\n",
      "|    max|              6040|              3952|                5|        1.04645432E9|\n",
      "+-------+------------------+------------------+-----------------+--------------------+\n",
      "\n"
     ]
    }
   ],
   "source": [
    "train_data.describe().show()"
   ]
  },
  {
   "cell_type": "code",
   "execution_count": 12,
   "metadata": {},
   "outputs": [
    {
     "name": "stdout",
     "output_type": "stream",
     "text": [
      "+-------+------------------+------------------+------------------+--------------------+\n",
      "|summary|            userId|           movieId|            rating|           timestamp|\n",
      "+-------+------------------+------------------+------------------+--------------------+\n",
      "|  count|            299771|            299771|            299771|              299771|\n",
      "|   mean| 3022.035196866942|1867.8419226676363|3.5793755900337256| 9.722794929589853E8|\n",
      "| stddev|1726.5009734897073| 1095.567508110294|1.1192410652643803|1.2180133568646537E7|\n",
      "|    min|                 1|                 1|                 1|        9.56703954E8|\n",
      "|    max|              6040|              3952|                 5|        1.04645459E9|\n",
      "+-------+------------------+------------------+------------------+--------------------+\n",
      "\n"
     ]
    }
   ],
   "source": [
    "test_data.describe().show()"
   ]
  },
  {
   "cell_type": "markdown",
   "metadata": {},
   "source": [
    "# Build Model"
   ]
  },
  {
   "cell_type": "code",
   "execution_count": 13,
   "metadata": {},
   "outputs": [],
   "source": [
    "recommender = ALS(maxIter = 5, regParam = 0.01, userCol='userId', itemCol='movieId', ratingCol='rating')\n",
    "# recommender = ALS(maxIter = 5, regParam = 0.01, userCol='userId', itemCol='movieId', ratingCol='rating', coldStartStrategy=\"drop\")"
   ]
  },
  {
   "cell_type": "code",
   "execution_count": 14,
   "metadata": {},
   "outputs": [],
   "source": [
    "model = recommender.fit(train_data)"
   ]
  },
  {
   "cell_type": "markdown",
   "metadata": {},
   "source": [
    "# Evaluate Model"
   ]
  },
  {
   "cell_type": "code",
   "execution_count": 15,
   "metadata": {},
   "outputs": [],
   "source": [
    "pred_data = model.transform(test_data)"
   ]
  },
  {
   "cell_type": "code",
   "execution_count": 16,
   "metadata": {},
   "outputs": [
    {
     "name": "stdout",
     "output_type": "stream",
     "text": [
      "+------+-------+------+-------------+----------+\n",
      "|userId|movieId|rating|    timestamp|prediction|\n",
      "+------+-------+------+-------------+----------+\n",
      "|   673|    148|     5| 9.75620824E8|  3.508952|\n",
      "|  4169|    148|     3| 9.76588402E8|   2.15964|\n",
      "|  3184|    148|     4| 9.68708953E8| 3.0696592|\n",
      "|  2383|    148|     2| 9.74417654E8| 3.5550392|\n",
      "|  3539|    148|     3| 9.66932408E8| 3.4837592|\n",
      "|   482|    148|     2| 9.76219954E8| 2.9147143|\n",
      "|   424|    148|     4|1.027003224E9| 2.7909567|\n",
      "|  2507|    148|     4| 9.74082717E8|   3.60089|\n",
      "|  4858|    463|     3| 9.63746396E8| 2.9577634|\n",
      "|  3328|    463|     4| 9.67918151E8| 3.3567643|\n",
      "|  4040|    463|     1| 9.65505136E8| 2.2276387|\n",
      "|  4277|    463|     4| 9.65469038E8|  3.728101|\n",
      "|  2051|    463|     1| 9.74663178E8|  2.348032|\n",
      "|   660|    463|     3| 9.75690189E8|  2.701022|\n",
      "|  5306|    463|     2|  9.6101316E8| 3.1144714|\n",
      "|  3032|    463|     4| 9.70356224E8| 4.2642455|\n",
      "|  3717|    463|     2| 9.67228367E8| 3.7871368|\n",
      "|  5511|    463|     2| 9.59715021E8|  3.863929|\n",
      "|  5996|    463|     4| 9.66273626E8| 3.6578743|\n",
      "|  1980|    463|     2| 9.75261163E8| 2.6468456|\n",
      "+------+-------+------+-------------+----------+\n",
      "only showing top 20 rows\n",
      "\n"
     ]
    }
   ],
   "source": [
    "pred_data.show()"
   ]
  },
  {
   "cell_type": "code",
   "execution_count": 17,
   "metadata": {},
   "outputs": [
    {
     "name": "stdout",
     "output_type": "stream",
     "text": [
      "Root-mean-square error = nan\n"
     ]
    }
   ],
   "source": [
    "evaluator = RegressionEvaluator(metricName='rmse',labelCol='rating',predictionCol='prediction')\n",
    "print(\"Root-mean-square error = \" + str(evaluator.evaluate(pred_data)))"
   ]
  },
  {
   "cell_type": "code",
   "execution_count": 18,
   "metadata": {},
   "outputs": [],
   "source": [
    "# A NaN result is due to SPARK-14489 and because the model can't predict values for users for which there's no data. \n",
    "# A temporary workaround is to exclude rows with predicted NaN values or to replace them with a constant, for instance,\n",
    "# the general mean rating. However, to map to a real business problem, the data scientist, in collaboration with the \n",
    "# business owner, must define what happens if such an event occurs. For example, you can provide no recommendation for \n",
    "# a user until that user rates a few items. Alternatively, before user rates five items, you can use a user-based recommender\n",
    "# system that's based on the user's profile (that's another recommender system to develop).\n",
    "\n",
    "# Replace predicted NaN values with the average rating and evaluate the model:"
   ]
  },
  {
   "cell_type": "code",
   "execution_count": 19,
   "metadata": {},
   "outputs": [
    {
     "name": "stdout",
     "output_type": "stream",
     "text": [
      "The average rating in the dataset is: 3.581564453029317\n"
     ]
    }
   ],
   "source": [
    "avgRatings = data.select('rating').groupBy().avg().first()[0]\n",
    "print ('The average rating in the dataset is: {}'.format(avgRatings))"
   ]
  },
  {
   "cell_type": "code",
   "execution_count": 20,
   "metadata": {},
   "outputs": [
    {
     "name": "stdout",
     "output_type": "stream",
     "text": [
      "The root mean squared error for our model is: 0.9072353327216\n"
     ]
    }
   ],
   "source": [
    "evaluator = RegressionEvaluator(metricName='rmse', labelCol='rating', predictionCol='prediction')\n",
    "print ('The root mean squared error for our model is: {}'.format(evaluator.evaluate(pred_data.na.fill(avgRatings))))"
   ]
  },
  {
   "cell_type": "code",
   "execution_count": 21,
   "metadata": {},
   "outputs": [],
   "source": [
    "# Now exclude predicted NaN values and evaluate the model:"
   ]
  },
  {
   "cell_type": "code",
   "execution_count": 22,
   "metadata": {},
   "outputs": [
    {
     "name": "stdout",
     "output_type": "stream",
     "text": [
      "The root mean squared error for our model is: 0.9071309268091656\n"
     ]
    }
   ],
   "source": [
    "evaluator = RegressionEvaluator(metricName='rmse', labelCol='rating', predictionCol='prediction')\n",
    "print ('The root mean squared error for our model is: {}'.format(evaluator.evaluate(pred_data.na.drop())))"
   ]
  },
  {
   "cell_type": "markdown",
   "metadata": {},
   "source": [
    "# Define Movie details "
   ]
  },
  {
   "cell_type": "code",
   "execution_count": 23,
   "metadata": {},
   "outputs": [
    {
     "name": "stdout",
     "output_type": "stream",
     "text": [
      "root\n",
      " |-- movieId: integer (nullable = true)\n",
      " |-- title: string (nullable = true)\n",
      " |-- genres: string (nullable = true)\n",
      "\n"
     ]
    }
   ],
   "source": [
    "schema = StructType([StructField('movieId', IntegerType(), True),\n",
    "                     StructField('title', StringType(), True),\n",
    "                     StructField('genres', StringType(), True)])\n",
    "movieDetails = spark.read.csv('movies.dat',sep = '::', header = False, schema = schema)\n",
    "movieDetails.printSchema()"
   ]
  },
  {
   "cell_type": "code",
   "execution_count": 24,
   "metadata": {},
   "outputs": [
    {
     "data": {
      "text/plain": [
       "[Row(movieId=1, title='Toy Story (1995)', genres=\"Animation|Children's|Comedy\"),\n",
       " Row(movieId=2, title='Jumanji (1995)', genres=\"Adventure|Children's|Fantasy\"),\n",
       " Row(movieId=3, title='Grumpier Old Men (1995)', genres='Comedy|Romance')]"
      ]
     },
     "execution_count": 24,
     "metadata": {},
     "output_type": "execute_result"
    }
   ],
   "source": [
    "movieDetails.head(3)"
   ]
  },
  {
   "cell_type": "code",
   "execution_count": 25,
   "metadata": {},
   "outputs": [
    {
     "name": "stdout",
     "output_type": "stream",
     "text": [
      "root\n",
      " |-- UserID: integer (nullable = true)\n",
      " |-- Gender: string (nullable = true)\n",
      " |-- Age: integer (nullable = true)\n",
      " |-- Occupation: integer (nullable = true)\n",
      " |-- Zipcode: integer (nullable = true)\n",
      "\n"
     ]
    }
   ],
   "source": [
    "schema = StructType([StructField('UserID', IntegerType(), True),\n",
    "                     StructField('Gender', StringType(), True),\n",
    "                     StructField('Age', IntegerType(), True),\n",
    "                     StructField('Occupation', IntegerType(), True),\n",
    "                     StructField('Zipcode', IntegerType(), True)])\n",
    "occupation ={\n",
    "  0:  \"other\", \n",
    "  1:  \"academic/educator\",\n",
    "  2:  \"artist\",\n",
    "  3:  \"clerical/admin\",\n",
    "  4:  \"college/grad student\",\n",
    "  5:  \"customer service\",\n",
    "  6:  \"doctor/health care\",\n",
    "  7:  \"executive/managerial\",\n",
    "  8:  \"farmer\",\n",
    "  9:  \"homemaker\",\n",
    " 10:  \"K-12 student\",\n",
    " 11:  \"lawyer\",\n",
    " 12:  \"programmer\",\n",
    " 13:  \"retired\",\n",
    " 14:  \"sales/marketing\",\n",
    " 15:  \"scientist\",\n",
    " 16:  \"self-employed\",\n",
    " 17:  \"technician/engineer\",\n",
    " 18:  \"tradesman/craftsman\",\n",
    " 19:  \"unemployed\",\n",
    " 20:  \"writer\"  \n",
    "    \n",
    "}\n",
    "userDetails = spark.read.csv('users.dat',sep = '::', header = False, schema = schema)\n",
    "userDetails.printSchema()"
   ]
  },
  {
   "cell_type": "code",
   "execution_count": 26,
   "metadata": {},
   "outputs": [
    {
     "data": {
      "text/plain": [
       "[Row(UserID=1, Gender='F', Age=1, Occupation=10, Zipcode=48067),\n",
       " Row(UserID=2, Gender='M', Age=56, Occupation=16, Zipcode=70072),\n",
       " Row(UserID=3, Gender='M', Age=25, Occupation=15, Zipcode=55117)]"
      ]
     },
     "execution_count": 26,
     "metadata": {},
     "output_type": "execute_result"
    }
   ],
   "source": [
    "userDetails.head(3)"
   ]
  },
  {
   "cell_type": "markdown",
   "metadata": {},
   "source": [
    "# Movie recommendations "
   ]
  },
  {
   "cell_type": "code",
   "execution_count": 27,
   "metadata": {},
   "outputs": [
    {
     "name": "stdout",
     "output_type": "stream",
     "text": [
      "+------+--------------------+\n",
      "|userId|     recommendations|\n",
      "+------+--------------------+\n",
      "|  1580|[[2962, 6.6843476...|\n",
      "|  4900|[[2962, 8.419462]...|\n",
      "|  5300|[[2962, 6.404892]...|\n",
      "|   471|[[2998, 7.0608788...|\n",
      "|  1591|[[1421, 6.5675516...|\n",
      "|  4101|[[2892, 10.938805...|\n",
      "|  1342|[[2962, 6.4749775...|\n",
      "|  2122|[[3161, 6.862848]...|\n",
      "|  2142|[[2185, 10.207331...|\n",
      "|   463|[[1743, 7.9208336...|\n",
      "|   833|[[2964, 9.368681]...|\n",
      "|  5803|[[2964, 10.681781...|\n",
      "|  3794|[[3349, 7.422888]...|\n",
      "|  1645|[[119, 8.433569],...|\n",
      "|  3175|[[1846, 6.5974584...|\n",
      "|  4935|[[1000, 10.929255...|\n",
      "|   496|[[3021, 10.489981...|\n",
      "|  2366|[[1421, 7.181728]...|\n",
      "|  2866|[[2931, 7.101722]...|\n",
      "|  5156|[[2897, 6.506299]...|\n",
      "+------+--------------------+\n",
      "only showing top 20 rows\n",
      "\n"
     ]
    }
   ],
   "source": [
    "# Generate top 10 movie recommendations for each user\n",
    "userRecs = model.recommendForAllUsers(10)\n",
    "userRecs.show()"
   ]
  },
  {
   "cell_type": "code",
   "execution_count": 28,
   "metadata": {},
   "outputs": [
    {
     "name": "stdout",
     "output_type": "stream",
     "text": [
      "+------+-----------------+\n",
      "|userId|              col|\n",
      "+------+-----------------+\n",
      "|     1|[2938, 6.7937236]|\n",
      "|     1| [1471, 6.970809]|\n",
      "|     1| [1421, 9.322677]|\n",
      "|     1|[1547, 6.7079444]|\n",
      "|     1| [811, 6.7112656]|\n",
      "|     1|[1565, 7.2358603]|\n",
      "|     1|[2893, 6.7922587]|\n",
      "|     1| [1930, 8.169257]|\n",
      "|     1|[2964, 8.5539255]|\n",
      "|     1| [2825, 6.792793]|\n",
      "|     2|[1651, 5.8887258]|\n",
      "|     2|[1519, 5.6566043]|\n",
      "|     2|  [572, 7.178902]|\n",
      "|     2|   [131, 5.86207]|\n",
      "|     2| [1725, 5.781336]|\n",
      "|     2|[1715, 5.7014794]|\n",
      "|     2|[3860, 6.0539355]|\n",
      "|     2| [1755, 5.964891]|\n",
      "|     2|[2185, 6.3663654]|\n",
      "|     2| [3245, 5.884728]|\n",
      "+------+-----------------+\n",
      "only showing top 20 rows\n",
      "\n"
     ]
    }
   ],
   "source": [
    "userRecsExplode = userRecs.select(userRecs.userId,f.explode(userRecs.recommendations)).orderBy(userRecs.userId)\n",
    "userRecsExplode.show()"
   ]
  },
  {
   "cell_type": "code",
   "execution_count": 29,
   "metadata": {},
   "outputs": [
    {
     "name": "stdout",
     "output_type": "stream",
     "text": [
      "+-------+--------------------+--------------------+--------------------+\n",
      "|movieId|               title|              genres|     recommendations|\n",
      "+-------+--------------------+--------------------+--------------------+\n",
      "|   1580| Men in Black (1997)|Action|Adventure|...|[[1341, 5.604971]...|\n",
      "|    471|Hudsucker Proxy, ...|      Comedy|Romance|[[665, 6.5844216]...|\n",
      "|   1591|        Spawn (1997)|Action|Adventure|...|[[5052, 6.049133]...|\n",
      "|   1342|     Candyman (1992)|              Horror|[[5052, 6.9310412...|\n",
      "|   2122|Children of the C...|     Horror|Thriller|[[5642, 6.928201]...|\n",
      "|   2142|American Tail: Fi...|Animation|Childre...|[[1823, 5.4887695...|\n",
      "|    463|Guilty as Sin (1993)|Crime|Drama|Thriller|[[5804, 7.643492]...|\n",
      "|    833|High School High ...|              Comedy|[[5642, 7.1914544...|\n",
      "|   3794| Chuck & Buck (2000)|        Comedy|Drama|[[4441, 11.361889...|\n",
      "|   1645|Devil's Advocate,...|Crime|Horror|Myst...|[[5642, 6.888715]...|\n",
      "|   3175| Galaxy Quest (1999)|Adventure|Comedy|...|[[2925, 5.714557]...|\n",
      "|    496|What Happened Was...|Comedy|Drama|Romance|[[3222, 12.760487...|\n",
      "|   2366|    King Kong (1933)|Action|Adventure|...|[[228, 7.185414],...|\n",
      "|   2866|Buddy Holly Story...|               Drama|[[2441, 6.4619746...|\n",
      "|    148|Awfully Big Adven...|               Drama|[[5901, 14.245445...|\n",
      "|   1088|Dirty Dancing (1987)|     Musical|Romance|[[5297, 6.96684],...|\n",
      "|   1238|   Local Hero (1983)|              Comedy|[[2673, 7.9364643...|\n",
      "|   3918|Hellbound: Hellra...|              Horror|[[745, 10.553081]...|\n",
      "|   1829|  Chinese Box (1997)|       Drama|Romance|[[2930, 8.57203],...|\n",
      "|   1959|Out of Africa (1985)|       Drama|Romance|[[2640, 7.349084]...|\n",
      "+-------+--------------------+--------------------+--------------------+\n",
      "only showing top 20 rows\n",
      "\n"
     ]
    }
   ],
   "source": [
    "# Generate top 10 user recommendations for each movie\n",
    "movieRecs = model.recommendForAllItems(10)\n",
    "movieRecs.join(movieDetails,movieRecs.movieId==movieDetails.movieId,\"left\").select([movieRecs.movieId,movieDetails.title,movieDetails.genres,movieRecs.recommendations]).show()"
   ]
  },
  {
   "cell_type": "code",
   "execution_count": 30,
   "metadata": {},
   "outputs": [
    {
     "name": "stdout",
     "output_type": "stream",
     "text": [
      "+-------+--------------------+--------------------+-----------------+\n",
      "|movieId|               title|              genres|   recommendation|\n",
      "+-------+--------------------+--------------------+-----------------+\n",
      "|   1580| Men in Black (1997)|Action|Adventure|...| [1341, 5.604971]|\n",
      "|   1580| Men in Black (1997)|Action|Adventure|...| [3765, 5.367282]|\n",
      "|   1580| Men in Black (1997)|Action|Adventure|...|[4383, 5.3232975]|\n",
      "|   1580| Men in Black (1997)|Action|Adventure|...| [4565, 5.297894]|\n",
      "|   1580| Men in Black (1997)|Action|Adventure|...| [5052, 5.214266]|\n",
      "|   1580| Men in Black (1997)|Action|Adventure|...|[5856, 5.2086186]|\n",
      "|   1580| Men in Black (1997)|Action|Adventure|...| [2449, 5.192043]|\n",
      "|   1580| Men in Black (1997)|Action|Adventure|...|[4216, 5.1595926]|\n",
      "|   1580| Men in Black (1997)|Action|Adventure|...|  [790, 5.155496]|\n",
      "|   1580| Men in Black (1997)|Action|Adventure|...|[2925, 5.1428547]|\n",
      "|    471|Hudsucker Proxy, ...|      Comedy|Romance| [665, 6.5844216]|\n",
      "|    471|Hudsucker Proxy, ...|      Comedy|Romance|  [5642, 6.38111]|\n",
      "|    471|Hudsucker Proxy, ...|      Comedy|Romance|[1080, 6.3648562]|\n",
      "|    471|Hudsucker Proxy, ...|      Comedy|Romance| [4751, 6.077906]|\n",
      "|    471|Hudsucker Proxy, ...|      Comedy|Romance|[2920, 6.0749884]|\n",
      "|    471|Hudsucker Proxy, ...|      Comedy|Romance| [3787, 6.068701]|\n",
      "|    471|Hudsucker Proxy, ...|      Comedy|Romance|[2066, 6.0634003]|\n",
      "|    471|Hudsucker Proxy, ...|      Comedy|Romance| [5804, 6.006331]|\n",
      "|    471|Hudsucker Proxy, ...|      Comedy|Romance|  [168, 5.987978]|\n",
      "|    471|Hudsucker Proxy, ...|      Comedy|Romance| [381, 5.9820714]|\n",
      "+-------+--------------------+--------------------+-----------------+\n",
      "only showing top 20 rows\n",
      "\n"
     ]
    }
   ],
   "source": [
    "movieRecsExplode = movieRecs.select(movieRecs.movieId,f.explode(movieRecs.recommendations)).orderBy(movieRecs.movieId)\n",
    "movieRecsExplode.join(movieDetails,movieRecsExplode.movieId==movieDetails.movieId,\"left\").select([movieRecsExplode.movieId,movieDetails.title,movieDetails.genres,movieRecsExplode.col.alias('recommendation')]).show()"
   ]
  },
  {
   "cell_type": "code",
   "execution_count": 31,
   "metadata": {},
   "outputs": [
    {
     "name": "stdout",
     "output_type": "stream",
     "text": [
      "+------+-------+--------------------+--------------------+\n",
      "|userId|movieId|               title|              genres|\n",
      "+------+-------+--------------------+--------------------+\n",
      "|    11|     36|Dead Man Walking ...|               Drama|\n",
      "|    11|     50|Usual Suspects, T...|      Crime|Thriller|\n",
      "|    11|     88|  Black Sheep (1996)|              Comedy|\n",
      "|    11|    104|Happy Gilmore (1996)|              Comedy|\n",
      "|    11|    246|  Hoop Dreams (1994)|         Documentary|\n",
      "|    11|    249|Immortal Beloved ...|       Drama|Romance|\n",
      "|    11|    318|Shawshank Redempt...|               Drama|\n",
      "|    11|    345|Adventures of Pri...|        Comedy|Drama|\n",
      "|    11|    356| Forrest Gump (1994)|  Comedy|Romance|War|\n",
      "|    11|    441|Dazed and Confuse...|              Comedy|\n",
      "|    11|    543|So I Married an A...|Comedy|Romance|Th...|\n",
      "|    11|    586|   Home Alone (1990)|   Children's|Comedy|\n",
      "|    11|    708|Truth About Cats ...|      Comedy|Romance|\n",
      "|    11|    788|Nutty Professor, ...|Comedy|Fantasy|Ro...|\n",
      "|    11|   1059|William Shakespea...|       Drama|Romance|\n",
      "|    11|   1136|Monty Python and ...|              Comedy|\n",
      "|    11|   1188|Strictly Ballroom...|      Comedy|Romance|\n",
      "|    11|   1244|    Manhattan (1979)|Comedy|Drama|Romance|\n",
      "|    11|   1265|Groundhog Day (1993)|      Comedy|Romance|\n",
      "|    11|   1288|This Is Spinal Ta...|Comedy|Drama|Musical|\n",
      "+------+-------+--------------------+--------------------+\n",
      "only showing top 20 rows\n",
      "\n"
     ]
    }
   ],
   "source": [
    "# Generate top 10 movie recommendations for a specified set of users\n",
    "singleUser = test_data.filter(test_data.userId==11).select(['movieId','userId'])\n",
    "singleUser.join(movieDetails,singleUser.movieId==movieDetails.movieId,\"left\").select([singleUser.userId,singleUser.movieId,movieDetails.title,movieDetails.genres]).show()"
   ]
  },
  {
   "cell_type": "code",
   "execution_count": 32,
   "metadata": {},
   "outputs": [
    {
     "name": "stdout",
     "output_type": "stream",
     "text": [
      "+------+--------------------+\n",
      "|userId|     recommendations|\n",
      "+------+--------------------+\n",
      "|    11|[[2962, 7.8672667...|\n",
      "+------+--------------------+\n",
      "\n"
     ]
    }
   ],
   "source": [
    "userSubsetRecs = model.recommendForUserSubset(singleUser, 10)\n",
    "userSubsetRecs.show()"
   ]
  },
  {
   "cell_type": "code",
   "execution_count": 33,
   "metadata": {},
   "outputs": [
    {
     "name": "stdout",
     "output_type": "stream",
     "text": [
      "+------+-----------------+\n",
      "|userId|              col|\n",
      "+------+-----------------+\n",
      "|    11|[2962, 7.8672667]|\n",
      "|    11|[3349, 7.3768806]|\n",
      "|    11| [3854, 7.253388]|\n",
      "|    11|[3880, 6.8059125]|\n",
      "|    11| [1502, 6.143665]|\n",
      "|    11|[2157, 5.9470844]|\n",
      "|    11|  [771, 5.913026]|\n",
      "|    11| [1585, 5.874009]|\n",
      "|    11| [2892, 5.872451]|\n",
      "|    11|  [1455, 5.80228]|\n",
      "+------+-----------------+\n",
      "\n"
     ]
    }
   ],
   "source": [
    "userSubsetRecsExplode = userSubsetRecs.select(userSubsetRecs.userId,f.explode(userSubsetRecs.recommendations))\n",
    "userSubsetRecsExplode.show()"
   ]
  },
  {
   "cell_type": "code",
   "execution_count": 34,
   "metadata": {},
   "outputs": [
    {
     "name": "stdout",
     "output_type": "stream",
     "text": [
      "+-------+------+----------+\n",
      "|movieId|userId|prediction|\n",
      "+-------+------+----------+\n",
      "|   2959|    11|  4.832191|\n",
      "|   2109|    11| 4.3804784|\n",
      "|   1136|    11|   4.25353|\n",
      "|     50|    11| 4.2288938|\n",
      "|    318|    11| 4.1427226|\n",
      "|   1288|    11|  4.142036|\n",
      "|   3552|    11|  4.118287|\n",
      "|   1244|    11|  4.083081|\n",
      "|   1704|    11| 3.8887162|\n",
      "|   2710|    11|  3.827378|\n",
      "|   1265|    11| 3.7715447|\n",
      "|   1682|    11|  3.733756|\n",
      "|    246|    11|  3.709584|\n",
      "|   2396|    11| 3.6656115|\n",
      "|    543|    11| 3.6215792|\n",
      "|    441|    11| 3.5810618|\n",
      "|   2507|    11| 3.5496643|\n",
      "|   2795|    11|  3.532816|\n",
      "|    104|    11| 3.5320704|\n",
      "|     36|    11|  3.507107|\n",
      "+-------+------+----------+\n",
      "only showing top 20 rows\n",
      "\n"
     ]
    }
   ],
   "source": [
    "recommendations = model.transform(singleUser)\n",
    "userRecommendations= recommendations.orderBy('prediction',ascending=False)\n",
    "userRecommendations.show()"
   ]
  },
  {
   "cell_type": "code",
   "execution_count": 35,
   "metadata": {},
   "outputs": [
    {
     "name": "stdout",
     "output_type": "stream",
     "text": [
      "+------+--------------------+--------------------+----------+\n",
      "|userId|               title|              genres|prediction|\n",
      "+------+--------------------+--------------------+----------+\n",
      "|    11|Groundhog Day (1993)|      Comedy|Romance| 3.7715447|\n",
      "|    11|Shakespeare in Lo...|      Comedy|Romance| 3.6656115|\n",
      "|    11|    Superstar (1999)|              Comedy| 2.2992592|\n",
      "|    11| Benny & Joon (1993)|      Comedy|Romance| 3.3752885|\n",
      "|    11|Austin Powers: Th...|              Comedy|     3.464|\n",
      "|    11|When Harry Met Sa...|      Comedy|Romance| 3.4213314|\n",
      "|    11|Christmas Story, ...|        Comedy|Drama| 3.4937685|\n",
      "|    11|  Hoop Dreams (1994)|         Documentary|  3.709584|\n",
      "|    11|    Manhattan (1979)|Comedy|Drama|Romance|  4.083081|\n",
      "|    11|    Jerk, The (1979)|              Comedy| 4.3804784|\n",
      "|    11|This Is Spinal Ta...|Comedy|Drama|Musical|  4.142036|\n",
      "|    11|Truman Show, The ...|               Drama|  3.733756|\n",
      "|    11|Vegas Vacation (1...|              Comedy| 2.3880935|\n",
      "|    11|         Bean (1997)|              Comedy| 2.1681066|\n",
      "|    11|Hand That Rocks t...|            Thriller| 1.7314953|\n",
      "|    11|   Caddyshack (1980)|              Comedy|  4.118287|\n",
      "|    11|Monty Python and ...|              Comedy|   4.25353|\n",
      "|    11|  Wag the Dog (1997)|        Comedy|Drama| 3.3144567|\n",
      "|    11|  Black Sheep (1996)|              Comedy| 3.4466555|\n",
      "|    11|Shawshank Redempt...|               Drama| 4.1427226|\n",
      "+------+--------------------+--------------------+----------+\n",
      "only showing top 20 rows\n",
      "\n"
     ]
    }
   ],
   "source": [
    "userRecommendations.join(movieDetails,userRecommendations.movieId==movieDetails.movieId,\"left\").select([userRecommendations.userId,movieDetails.title,movieDetails.genres,userRecommendations.prediction]).show()"
   ]
  },
  {
   "cell_type": "code",
   "execution_count": 36,
   "metadata": {},
   "outputs": [
    {
     "name": "stdout",
     "output_type": "stream",
     "text": [
      "+-------+----------------+--------------------+------+\n",
      "|movieId|           title|              genres|userId|\n",
      "+-------+----------------+--------------------+------+\n",
      "|      1|Toy Story (1995)|Animation|Childre...|    10|\n",
      "|      1|Toy Story (1995)|Animation|Childre...|    23|\n",
      "|      1|Toy Story (1995)|Animation|Childre...|    26|\n",
      "|      1|Toy Story (1995)|Animation|Childre...|    28|\n",
      "|      1|Toy Story (1995)|Animation|Childre...|    36|\n",
      "|      1|Toy Story (1995)|Animation|Childre...|    44|\n",
      "|      1|Toy Story (1995)|Animation|Childre...|    48|\n",
      "|      1|Toy Story (1995)|Animation|Childre...|    65|\n",
      "|      1|Toy Story (1995)|Animation|Childre...|    68|\n",
      "|      1|Toy Story (1995)|Animation|Childre...|    76|\n",
      "|      1|Toy Story (1995)|Animation|Childre...|    92|\n",
      "|      1|Toy Story (1995)|Animation|Childre...|    96|\n",
      "|      1|Toy Story (1995)|Animation|Childre...|   114|\n",
      "|      1|Toy Story (1995)|Animation|Childre...|   118|\n",
      "|      1|Toy Story (1995)|Animation|Childre...|   121|\n",
      "|      1|Toy Story (1995)|Animation|Childre...|   131|\n",
      "|      1|Toy Story (1995)|Animation|Childre...|   132|\n",
      "|      1|Toy Story (1995)|Animation|Childre...|   134|\n",
      "|      1|Toy Story (1995)|Animation|Childre...|   136|\n",
      "|      1|Toy Story (1995)|Animation|Childre...|   142|\n",
      "+-------+----------------+--------------------+------+\n",
      "only showing top 20 rows\n",
      "\n"
     ]
    }
   ],
   "source": [
    "# Generate top 10 user recommendations for a specified set of movies\n",
    "singleMovie = test_data.filter(test_data.movieId==1).select(['movieId','userId'])\n",
    "singleMovie.join(movieDetails,singleMovie.movieId==movieDetails.movieId,\"left\").select([singleMovie.movieId,movieDetails.title,movieDetails.genres,singleMovie.userId]).show()"
   ]
  },
  {
   "cell_type": "code",
   "execution_count": 37,
   "metadata": {},
   "outputs": [
    {
     "name": "stdout",
     "output_type": "stream",
     "text": [
      "+-------+----------------+--------------------+--------------------+\n",
      "|movieId|           title|              genres|     recommendations|\n",
      "+-------+----------------+--------------------+--------------------+\n",
      "|      1|Toy Story (1995)|Animation|Childre...|[[1341, 6.6795297...|\n",
      "+-------+----------------+--------------------+--------------------+\n",
      "\n"
     ]
    }
   ],
   "source": [
    "movieSubSetRecs = model.recommendForItemSubset(singleMovie, 10)\n",
    "movieSubSetRecs.join(movieDetails,movieSubSetRecs.movieId==movieDetails.movieId,\"left\").select([movieSubSetRecs.movieId,movieDetails.title,movieDetails.genres,movieSubSetRecs.recommendations]).show()"
   ]
  },
  {
   "cell_type": "code",
   "execution_count": 38,
   "metadata": {},
   "outputs": [
    {
     "name": "stdout",
     "output_type": "stream",
     "text": [
      "+-------+----------------+--------------------+-----------------+\n",
      "|movieId|           title|              genres|   recommendation|\n",
      "+-------+----------------+--------------------+-----------------+\n",
      "|      1|Toy Story (1995)|Animation|Childre...|[1341, 6.6795297]|\n",
      "|      1|Toy Story (1995)|Animation|Childre...|[3723, 6.0799565]|\n",
      "|      1|Toy Story (1995)|Animation|Childre...| [883, 6.0258837]|\n",
      "|      1|Toy Story (1995)|Animation|Childre...| [2269, 5.894488]|\n",
      "|      1|Toy Story (1995)|Animation|Childre...| [2490, 5.845372]|\n",
      "|      1|Toy Story (1995)|Animation|Childre...| [2902, 5.772177]|\n",
      "|      1|Toy Story (1995)|Animation|Childre...|[5899, 5.7563214]|\n",
      "|      1|Toy Story (1995)|Animation|Childre...|[3009, 5.7245474]|\n",
      "|      1|Toy Story (1995)|Animation|Childre...| [3034, 5.698413]|\n",
      "|      1|Toy Story (1995)|Animation|Childre...|[4383, 5.6596065]|\n",
      "+-------+----------------+--------------------+-----------------+\n",
      "\n"
     ]
    }
   ],
   "source": [
    "movieSubSetRecsExplode = movieSubSetRecs.select(movieSubSetRecs.movieId,f.explode(movieSubSetRecs.recommendations))\n",
    "movieSubSetRecsExplode.join(movieDetails,movieSubSetRecsExplode.movieId==movieDetails.movieId,\"left\").select([movieSubSetRecsExplode.movieId,movieDetails.title,movieDetails.genres,movieSubSetRecsExplode.col.alias('recommendation')]).show()"
   ]
  },
  {
   "cell_type": "code",
   "execution_count": null,
   "metadata": {},
   "outputs": [],
   "source": []
  }
 ],
 "metadata": {
  "kernelspec": {
   "display_name": "Python 3",
   "language": "python",
   "name": "python3"
  },
  "language_info": {
   "codemirror_mode": {
    "name": "ipython",
    "version": 3
   },
   "file_extension": ".py",
   "mimetype": "text/x-python",
   "name": "python",
   "nbconvert_exporter": "python",
   "pygments_lexer": "ipython3",
   "version": "3.8.3"
  }
 },
 "nbformat": 4,
 "nbformat_minor": 4
}
